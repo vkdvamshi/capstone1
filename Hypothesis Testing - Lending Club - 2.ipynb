{
 "cells": [
  {
   "cell_type": "code",
   "execution_count": 1,
   "metadata": {},
   "outputs": [],
   "source": [
    "import pandas as pd\n",
    "import matplotlib.pyplot as plt\n",
    "import seaborn as sns\n",
    "from scipy.stats import kurtosis, skew, stats\n",
    "from math import sqrt\n",
    "from numpy import mean, var\n"
   ]
  },
  {
   "cell_type": "code",
   "execution_count": 2,
   "metadata": {},
   "outputs": [],
   "source": [
    "data = pd.read_csv ( '/Volumes/DataScience/data/LendingClub/loan_small.csv')"
   ]
  },
  {
   "cell_type": "code",
   "execution_count": 3,
   "metadata": {},
   "outputs": [
    {
     "name": "stdout",
     "output_type": "stream",
     "text": [
      "<class 'pandas.core.frame.DataFrame'>\n",
      "RangeIndex: 1303638 entries, 0 to 1303637\n",
      "Data columns (total 9 columns):\n",
      " #   Column          Non-Null Count    Dtype  \n",
      "---  ------          --------------    -----  \n",
      " 0   loan_amnt       1303638 non-null  int64  \n",
      " 1   int_rate        1303638 non-null  float64\n",
      " 2   emp_length      1228181 non-null  float64\n",
      " 3   home_ownership  1303638 non-null  object \n",
      " 4   annual_inc      1303638 non-null  float64\n",
      " 5   purpose         1303638 non-null  object \n",
      " 6   dti             1303326 non-null  float64\n",
      " 7   delinq_2yrs     1303638 non-null  int64  \n",
      " 8   loan_status     1303638 non-null  int64  \n",
      "dtypes: float64(4), int64(3), object(2)\n",
      "memory usage: 89.5+ MB\n"
     ]
    }
   ],
   "source": [
    "data.info()"
   ]
  },
  {
   "cell_type": "code",
   "execution_count": 4,
   "metadata": {},
   "outputs": [
    {
     "data": {
      "text/html": [
       "<div>\n",
       "<style scoped>\n",
       "    .dataframe tbody tr th:only-of-type {\n",
       "        vertical-align: middle;\n",
       "    }\n",
       "\n",
       "    .dataframe tbody tr th {\n",
       "        vertical-align: top;\n",
       "    }\n",
       "\n",
       "    .dataframe thead th {\n",
       "        text-align: right;\n",
       "    }\n",
       "</style>\n",
       "<table border=\"1\" class=\"dataframe\">\n",
       "  <thead>\n",
       "    <tr style=\"text-align: right;\">\n",
       "      <th></th>\n",
       "      <th>loan_amnt</th>\n",
       "      <th>int_rate</th>\n",
       "      <th>emp_length</th>\n",
       "      <th>annual_inc</th>\n",
       "      <th>dti</th>\n",
       "      <th>delinq_2yrs</th>\n",
       "      <th>loan_status</th>\n",
       "    </tr>\n",
       "  </thead>\n",
       "  <tbody>\n",
       "    <tr>\n",
       "      <th>count</th>\n",
       "      <td>1.303638e+06</td>\n",
       "      <td>1.303638e+06</td>\n",
       "      <td>1.228181e+06</td>\n",
       "      <td>1.303638e+06</td>\n",
       "      <td>1.303326e+06</td>\n",
       "      <td>1.303638e+06</td>\n",
       "      <td>1.303638e+06</td>\n",
       "    </tr>\n",
       "    <tr>\n",
       "      <th>mean</th>\n",
       "      <td>1.441684e+04</td>\n",
       "      <td>1.325730e+01</td>\n",
       "      <td>6.037018e+00</td>\n",
       "      <td>7.615875e+04</td>\n",
       "      <td>1.825884e+01</td>\n",
       "      <td>3.176027e-01</td>\n",
       "      <td>7.992648e-01</td>\n",
       "    </tr>\n",
       "    <tr>\n",
       "      <th>std</th>\n",
       "      <td>8.699574e+03</td>\n",
       "      <td>4.760614e+00</td>\n",
       "      <td>3.584584e+00</td>\n",
       "      <td>7.004827e+04</td>\n",
       "      <td>1.093846e+01</td>\n",
       "      <td>8.766965e-01</td>\n",
       "      <td>4.005505e-01</td>\n",
       "    </tr>\n",
       "    <tr>\n",
       "      <th>min</th>\n",
       "      <td>5.000000e+02</td>\n",
       "      <td>5.310000e+00</td>\n",
       "      <td>8.000000e-01</td>\n",
       "      <td>0.000000e+00</td>\n",
       "      <td>-1.000000e+00</td>\n",
       "      <td>0.000000e+00</td>\n",
       "      <td>0.000000e+00</td>\n",
       "    </tr>\n",
       "    <tr>\n",
       "      <th>25%</th>\n",
       "      <td>8.000000e+03</td>\n",
       "      <td>9.750000e+00</td>\n",
       "      <td>2.000000e+00</td>\n",
       "      <td>4.584000e+04</td>\n",
       "      <td>1.179000e+01</td>\n",
       "      <td>0.000000e+00</td>\n",
       "      <td>1.000000e+00</td>\n",
       "    </tr>\n",
       "    <tr>\n",
       "      <th>50%</th>\n",
       "      <td>1.200000e+04</td>\n",
       "      <td>1.274000e+01</td>\n",
       "      <td>6.000000e+00</td>\n",
       "      <td>6.500000e+04</td>\n",
       "      <td>1.761000e+01</td>\n",
       "      <td>0.000000e+00</td>\n",
       "      <td>1.000000e+00</td>\n",
       "    </tr>\n",
       "    <tr>\n",
       "      <th>75%</th>\n",
       "      <td>2.000000e+04</td>\n",
       "      <td>1.599000e+01</td>\n",
       "      <td>1.000000e+01</td>\n",
       "      <td>9.000000e+04</td>\n",
       "      <td>2.404000e+01</td>\n",
       "      <td>0.000000e+00</td>\n",
       "      <td>1.000000e+00</td>\n",
       "    </tr>\n",
       "    <tr>\n",
       "      <th>max</th>\n",
       "      <td>4.000000e+04</td>\n",
       "      <td>3.099000e+01</td>\n",
       "      <td>1.000000e+01</td>\n",
       "      <td>1.099920e+07</td>\n",
       "      <td>9.990000e+02</td>\n",
       "      <td>2.900000e+01</td>\n",
       "      <td>1.000000e+00</td>\n",
       "    </tr>\n",
       "  </tbody>\n",
       "</table>\n",
       "</div>"
      ],
      "text/plain": [
       "          loan_amnt      int_rate    emp_length    annual_inc           dti  \\\n",
       "count  1.303638e+06  1.303638e+06  1.228181e+06  1.303638e+06  1.303326e+06   \n",
       "mean   1.441684e+04  1.325730e+01  6.037018e+00  7.615875e+04  1.825884e+01   \n",
       "std    8.699574e+03  4.760614e+00  3.584584e+00  7.004827e+04  1.093846e+01   \n",
       "min    5.000000e+02  5.310000e+00  8.000000e-01  0.000000e+00 -1.000000e+00   \n",
       "25%    8.000000e+03  9.750000e+00  2.000000e+00  4.584000e+04  1.179000e+01   \n",
       "50%    1.200000e+04  1.274000e+01  6.000000e+00  6.500000e+04  1.761000e+01   \n",
       "75%    2.000000e+04  1.599000e+01  1.000000e+01  9.000000e+04  2.404000e+01   \n",
       "max    4.000000e+04  3.099000e+01  1.000000e+01  1.099920e+07  9.990000e+02   \n",
       "\n",
       "        delinq_2yrs   loan_status  \n",
       "count  1.303638e+06  1.303638e+06  \n",
       "mean   3.176027e-01  7.992648e-01  \n",
       "std    8.766965e-01  4.005505e-01  \n",
       "min    0.000000e+00  0.000000e+00  \n",
       "25%    0.000000e+00  1.000000e+00  \n",
       "50%    0.000000e+00  1.000000e+00  \n",
       "75%    0.000000e+00  1.000000e+00  \n",
       "max    2.900000e+01  1.000000e+00  "
      ]
     },
     "execution_count": 4,
     "metadata": {},
     "output_type": "execute_result"
    }
   ],
   "source": [
    "data.describe()"
   ]
  },
  {
   "cell_type": "code",
   "execution_count": 5,
   "metadata": {},
   "outputs": [
    {
     "data": {
      "text/html": [
       "<div>\n",
       "<style scoped>\n",
       "    .dataframe tbody tr th:only-of-type {\n",
       "        vertical-align: middle;\n",
       "    }\n",
       "\n",
       "    .dataframe tbody tr th {\n",
       "        vertical-align: top;\n",
       "    }\n",
       "\n",
       "    .dataframe thead th {\n",
       "        text-align: right;\n",
       "    }\n",
       "</style>\n",
       "<table border=\"1\" class=\"dataframe\">\n",
       "  <thead>\n",
       "    <tr style=\"text-align: right;\">\n",
       "      <th></th>\n",
       "      <th>loan_amnt</th>\n",
       "      <th>int_rate</th>\n",
       "      <th>emp_length</th>\n",
       "      <th>home_ownership</th>\n",
       "      <th>annual_inc</th>\n",
       "      <th>purpose</th>\n",
       "      <th>dti</th>\n",
       "      <th>delinq_2yrs</th>\n",
       "      <th>loan_status</th>\n",
       "    </tr>\n",
       "  </thead>\n",
       "  <tbody>\n",
       "    <tr>\n",
       "      <th>0</th>\n",
       "      <td>30000</td>\n",
       "      <td>22.35</td>\n",
       "      <td>5.0</td>\n",
       "      <td>MORTGAGE</td>\n",
       "      <td>100000.0</td>\n",
       "      <td>debt_consolidation</td>\n",
       "      <td>30.46</td>\n",
       "      <td>0</td>\n",
       "      <td>1</td>\n",
       "    </tr>\n",
       "    <tr>\n",
       "      <th>1</th>\n",
       "      <td>40000</td>\n",
       "      <td>16.14</td>\n",
       "      <td>0.8</td>\n",
       "      <td>MORTGAGE</td>\n",
       "      <td>45000.0</td>\n",
       "      <td>credit_card</td>\n",
       "      <td>50.53</td>\n",
       "      <td>0</td>\n",
       "      <td>1</td>\n",
       "    </tr>\n",
       "    <tr>\n",
       "      <th>2</th>\n",
       "      <td>20000</td>\n",
       "      <td>7.56</td>\n",
       "      <td>10.0</td>\n",
       "      <td>MORTGAGE</td>\n",
       "      <td>100000.0</td>\n",
       "      <td>credit_card</td>\n",
       "      <td>18.92</td>\n",
       "      <td>0</td>\n",
       "      <td>1</td>\n",
       "    </tr>\n",
       "    <tr>\n",
       "      <th>3</th>\n",
       "      <td>4500</td>\n",
       "      <td>11.31</td>\n",
       "      <td>10.0</td>\n",
       "      <td>RENT</td>\n",
       "      <td>38500.0</td>\n",
       "      <td>credit_card</td>\n",
       "      <td>4.64</td>\n",
       "      <td>0</td>\n",
       "      <td>1</td>\n",
       "    </tr>\n",
       "    <tr>\n",
       "      <th>4</th>\n",
       "      <td>8425</td>\n",
       "      <td>27.27</td>\n",
       "      <td>3.0</td>\n",
       "      <td>MORTGAGE</td>\n",
       "      <td>450000.0</td>\n",
       "      <td>credit_card</td>\n",
       "      <td>12.37</td>\n",
       "      <td>0</td>\n",
       "      <td>1</td>\n",
       "    </tr>\n",
       "  </tbody>\n",
       "</table>\n",
       "</div>"
      ],
      "text/plain": [
       "   loan_amnt  int_rate  emp_length home_ownership  annual_inc  \\\n",
       "0      30000     22.35         5.0       MORTGAGE    100000.0   \n",
       "1      40000     16.14         0.8       MORTGAGE     45000.0   \n",
       "2      20000      7.56        10.0       MORTGAGE    100000.0   \n",
       "3       4500     11.31        10.0           RENT     38500.0   \n",
       "4       8425     27.27         3.0       MORTGAGE    450000.0   \n",
       "\n",
       "              purpose    dti  delinq_2yrs  loan_status  \n",
       "0  debt_consolidation  30.46            0            1  \n",
       "1         credit_card  50.53            0            1  \n",
       "2         credit_card  18.92            0            1  \n",
       "3         credit_card   4.64            0            1  \n",
       "4         credit_card  12.37            0            1  "
      ]
     },
     "execution_count": 5,
     "metadata": {},
     "output_type": "execute_result"
    }
   ],
   "source": [
    "data.head()"
   ]
  },
  {
   "cell_type": "code",
   "execution_count": 6,
   "metadata": {},
   "outputs": [],
   "source": [
    "paid  = data.query ( 'loan_status == 1')\n",
    "chargeoff = data.query ( 'loan_status == 0 ')"
   ]
  },
  {
   "cell_type": "code",
   "execution_count": 7,
   "metadata": {},
   "outputs": [
    {
     "name": "stdout",
     "output_type": "stream",
     "text": [
      "<class 'pandas.core.frame.DataFrame'>\n",
      "Int64Index: 1041952 entries, 0 to 1303637\n",
      "Data columns (total 9 columns):\n",
      " #   Column          Non-Null Count    Dtype  \n",
      "---  ------          --------------    -----  \n",
      " 0   loan_amnt       1041952 non-null  int64  \n",
      " 1   int_rate        1041952 non-null  float64\n",
      " 2   emp_length      986892 non-null   float64\n",
      " 3   home_ownership  1041952 non-null  object \n",
      " 4   annual_inc      1041952 non-null  float64\n",
      " 5   purpose         1041952 non-null  object \n",
      " 6   dti             1041702 non-null  float64\n",
      " 7   delinq_2yrs     1041952 non-null  int64  \n",
      " 8   loan_status     1041952 non-null  int64  \n",
      "dtypes: float64(4), int64(3), object(2)\n",
      "memory usage: 79.5+ MB\n"
     ]
    }
   ],
   "source": [
    "paid.info()"
   ]
  },
  {
   "cell_type": "code",
   "execution_count": 8,
   "metadata": {},
   "outputs": [
    {
     "name": "stdout",
     "output_type": "stream",
     "text": [
      "<class 'pandas.core.frame.DataFrame'>\n",
      "Int64Index: 261686 entries, 96 to 1303634\n",
      "Data columns (total 9 columns):\n",
      " #   Column          Non-Null Count   Dtype  \n",
      "---  ------          --------------   -----  \n",
      " 0   loan_amnt       261686 non-null  int64  \n",
      " 1   int_rate        261686 non-null  float64\n",
      " 2   emp_length      241289 non-null  float64\n",
      " 3   home_ownership  261686 non-null  object \n",
      " 4   annual_inc      261686 non-null  float64\n",
      " 5   purpose         261686 non-null  object \n",
      " 6   dti             261624 non-null  float64\n",
      " 7   delinq_2yrs     261686 non-null  int64  \n",
      " 8   loan_status     261686 non-null  int64  \n",
      "dtypes: float64(4), int64(3), object(2)\n",
      "memory usage: 20.0+ MB\n"
     ]
    }
   ],
   "source": [
    "chargeoff.info()"
   ]
  },
  {
   "cell_type": "code",
   "execution_count": 9,
   "metadata": {},
   "outputs": [
    {
     "data": {
      "text/html": [
       "<div>\n",
       "<style scoped>\n",
       "    .dataframe tbody tr th:only-of-type {\n",
       "        vertical-align: middle;\n",
       "    }\n",
       "\n",
       "    .dataframe tbody tr th {\n",
       "        vertical-align: top;\n",
       "    }\n",
       "\n",
       "    .dataframe thead th {\n",
       "        text-align: right;\n",
       "    }\n",
       "</style>\n",
       "<table border=\"1\" class=\"dataframe\">\n",
       "  <thead>\n",
       "    <tr style=\"text-align: right;\">\n",
       "      <th></th>\n",
       "      <th>loan_amnt</th>\n",
       "      <th>int_rate</th>\n",
       "      <th>emp_length</th>\n",
       "      <th>annual_inc</th>\n",
       "      <th>dti</th>\n",
       "      <th>delinq_2yrs</th>\n",
       "      <th>loan_status</th>\n",
       "    </tr>\n",
       "  </thead>\n",
       "  <tbody>\n",
       "    <tr>\n",
       "      <th>loan_amnt</th>\n",
       "      <td>1.000000</td>\n",
       "      <td>0.143815</td>\n",
       "      <td>0.090323</td>\n",
       "      <td>0.310232</td>\n",
       "      <td>0.032081</td>\n",
       "      <td>-0.002967</td>\n",
       "      <td>-0.065220</td>\n",
       "    </tr>\n",
       "    <tr>\n",
       "      <th>int_rate</th>\n",
       "      <td>0.143815</td>\n",
       "      <td>1.000000</td>\n",
       "      <td>-0.003822</td>\n",
       "      <td>-0.071268</td>\n",
       "      <td>0.148392</td>\n",
       "      <td>0.048250</td>\n",
       "      <td>-0.258427</td>\n",
       "    </tr>\n",
       "    <tr>\n",
       "      <th>emp_length</th>\n",
       "      <td>0.090323</td>\n",
       "      <td>-0.003822</td>\n",
       "      <td>1.000000</td>\n",
       "      <td>0.065584</td>\n",
       "      <td>0.027773</td>\n",
       "      <td>0.021730</td>\n",
       "      <td>0.014357</td>\n",
       "    </tr>\n",
       "    <tr>\n",
       "      <th>annual_inc</th>\n",
       "      <td>0.310232</td>\n",
       "      <td>-0.071268</td>\n",
       "      <td>0.065584</td>\n",
       "      <td>1.000000</td>\n",
       "      <td>-0.141383</td>\n",
       "      <td>0.040632</td>\n",
       "      <td>0.041720</td>\n",
       "    </tr>\n",
       "    <tr>\n",
       "      <th>dti</th>\n",
       "      <td>0.032081</td>\n",
       "      <td>0.148392</td>\n",
       "      <td>0.027773</td>\n",
       "      <td>-0.141383</td>\n",
       "      <td>1.000000</td>\n",
       "      <td>-0.007472</td>\n",
       "      <td>-0.087184</td>\n",
       "    </tr>\n",
       "    <tr>\n",
       "      <th>delinq_2yrs</th>\n",
       "      <td>-0.002967</td>\n",
       "      <td>0.048250</td>\n",
       "      <td>0.021730</td>\n",
       "      <td>0.040632</td>\n",
       "      <td>-0.007472</td>\n",
       "      <td>1.000000</td>\n",
       "      <td>-0.020074</td>\n",
       "    </tr>\n",
       "    <tr>\n",
       "      <th>loan_status</th>\n",
       "      <td>-0.065220</td>\n",
       "      <td>-0.258427</td>\n",
       "      <td>0.014357</td>\n",
       "      <td>0.041720</td>\n",
       "      <td>-0.087184</td>\n",
       "      <td>-0.020074</td>\n",
       "      <td>1.000000</td>\n",
       "    </tr>\n",
       "  </tbody>\n",
       "</table>\n",
       "</div>"
      ],
      "text/plain": [
       "             loan_amnt  int_rate  emp_length  annual_inc       dti  \\\n",
       "loan_amnt     1.000000  0.143815    0.090323    0.310232  0.032081   \n",
       "int_rate      0.143815  1.000000   -0.003822   -0.071268  0.148392   \n",
       "emp_length    0.090323 -0.003822    1.000000    0.065584  0.027773   \n",
       "annual_inc    0.310232 -0.071268    0.065584    1.000000 -0.141383   \n",
       "dti           0.032081  0.148392    0.027773   -0.141383  1.000000   \n",
       "delinq_2yrs  -0.002967  0.048250    0.021730    0.040632 -0.007472   \n",
       "loan_status  -0.065220 -0.258427    0.014357    0.041720 -0.087184   \n",
       "\n",
       "             delinq_2yrs  loan_status  \n",
       "loan_amnt      -0.002967    -0.065220  \n",
       "int_rate        0.048250    -0.258427  \n",
       "emp_length      0.021730     0.014357  \n",
       "annual_inc      0.040632     0.041720  \n",
       "dti            -0.007472    -0.087184  \n",
       "delinq_2yrs     1.000000    -0.020074  \n",
       "loan_status    -0.020074     1.000000  "
      ]
     },
     "execution_count": 9,
     "metadata": {},
     "output_type": "execute_result"
    }
   ],
   "source": [
    "data.corr()"
   ]
  },
  {
   "cell_type": "code",
   "execution_count": 10,
   "metadata": {},
   "outputs": [
    {
     "data": {
      "image/png": "[encoded data removed]",
      "text/plain": [
       "<Figure size 432x288 with 1 Axes>"
      ]
     },
     "metadata": {
      "needs_background": "light"
     },
     "output_type": "display_data"
    }
   ],
   "source": [
    "plt.title('Distribution of loan amounts for good ( paid ) vs bad ( chargeoff ) loans')\n",
    "ax = sns.kdeplot(paid['loan_amnt'], bw=10000, label='paid')\n",
    "ax = sns.kdeplot(chargeoff['loan_amnt'], bw=10000, label='chargeoff')\n",
    "plt.show()"
   ]
  },
  {
   "cell_type": "code",
   "execution_count": 11,
   "metadata": {},
   "outputs": [
    {
     "data": {
      "image/png": "[encoded data removed]",
      "text/plain": [
       "<Figure size 432x288 with 1 Axes>"
      ]
     },
     "metadata": {
      "needs_background": "light"
     },
     "output_type": "display_data"
    }
   ],
   "source": [
    "plt.title('Distribution of loan amount for good vs bad loans ')\n",
    "ax = sns.boxplot(x=\"loan_status\", y=\"loan_amnt\", data=data)"
   ]
  },
  {
   "cell_type": "code",
   "execution_count": 12,
   "metadata": {},
   "outputs": [
    {
     "data": {
      "image/png": "[encoded data removed]",
      "text/plain": [
       "<Figure size 432x288 with 1 Axes>"
      ]
     },
     "metadata": {
      "needs_background": "light"
     },
     "output_type": "display_data"
    }
   ],
   "source": [
    "plt.title('Distribution of loan amount for good vs bad loans ')\n",
    "ax = sns.boxplot(x=\"loan_status\", y=\"annual_inc\", data=data)"
   ]
  },
  {
   "cell_type": "code",
   "execution_count": 13,
   "metadata": {},
   "outputs": [
    {
     "data": {
      "image/png": "[encoded data removed]",
      "text/plain": [
       "<Figure size 432x288 with 1 Axes>"
      ]
     },
     "metadata": {
      "needs_background": "light"
     },
     "output_type": "display_data"
    }
   ],
   "source": [
    "plt.title('Distribution of loan amount for good vs bad loans ')\n",
    "ax = sns.boxplot(x=\"loan_status\", y=\"emp_length\", data=data)"
   ]
  },
  {
   "cell_type": "code",
   "execution_count": 20,
   "metadata": {},
   "outputs": [
    {
     "name": "stdout",
     "output_type": "stream",
     "text": [
      "2 sample, 2 sided t-test pvalue:  0.0 t-stat: 73.88055546669763\n"
     ]
    }
   ],
   "source": [
    "statistic, pvalue = stats.ttest_ind(chargeoff['loan_amnt'], paid['loan_amnt'], equal_var = False)\n",
    "print(\"2 sample, 2 sided t-test pvalue:  {} t-stat: {}\".format(pvalue,statistic))"
   ]
  },
  {
   "cell_type": "code",
   "execution_count": 21,
   "metadata": {},
   "outputs": [
    {
     "name": "stdout",
     "output_type": "stream",
     "text": [
      "2 sample, 2 sided t-test pvalue:  0.0 t-stat: -50.18848605958238\n"
     ]
    }
   ],
   "source": [
    "statistic, pvalue = stats.ttest_ind(chargeoff['annual_inc'], paid['annual_inc'], equal_var = False)\n",
    "print(\"2 sample, 2 sided t-test pvalue:  {} t-stat: {}\".format(pvalue,statistic))"
   ]
  },
  {
   "cell_type": "code",
   "execution_count": 22,
   "metadata": {},
   "outputs": [
    {
     "name": "stdout",
     "output_type": "stream",
     "text": [
      "2 sample, 2 sided t-test pvalue:  nan t-stat: nan\n"
     ]
    }
   ],
   "source": [
    "statistic, pvalue = stats.ttest_ind(chargeoff['dti'], paid['dti'], equal_var = False)\n",
    "print(\"2 sample, 2 sided t-test pvalue:  {} t-stat: {}\".format(pvalue,statistic))"
   ]
  },
  {
   "cell_type": "code",
   "execution_count": 23,
   "metadata": {},
   "outputs": [
    {
     "name": "stdout",
     "output_type": "stream",
     "text": [
      "2 sample, 2 sided t-test pvalue:  0.0 t-stat: 291.15495845193226\n"
     ]
    }
   ],
   "source": [
    "statistic, pvalue = stats.ttest_ind(chargeoff['int_rate'], paid['int_rate'], equal_var = False)\n",
    "print(\"2 sample, 2 sided t-test pvalue:  {} t-stat: {}\".format(pvalue,statistic))"
   ]
  },
  {
   "cell_type": "code",
   "execution_count": 17,
   "metadata": {},
   "outputs": [
    {
     "name": "stdout",
     "output_type": "stream",
     "text": [
      "cohen's d: 0.16317318655201116\n"
     ]
    }
   ],
   "source": [
    "# function to calculate Cohen's d for independent samples\n",
    "def cohend(d1, d2):\n",
    "    n1, n2 = len(d1), len(d2)\n",
    "    s1, s2 = var(d1, ddof=1), var(d2, ddof=1)\n",
    "    s = sqrt(((n1 - 1) * s1 + (n2 - 1) * s2) / (n1 + n2 - 2))\n",
    "    u1, u2 = mean(d1), mean(d2)\n",
    "    return (u1 - u2) / s\n",
    "d = cohend(chargeoff['loan_amnt'], paid['loan_amnt'])\n",
    "print(\"cohen's d: {}\".format(d))"
   ]
  },
  {
   "cell_type": "code",
   "execution_count": 18,
   "metadata": {},
   "outputs": [
    {
     "data": {
      "text/html": [
       "<div>\n",
       "<style scoped>\n",
       "    .dataframe tbody tr th:only-of-type {\n",
       "        vertical-align: middle;\n",
       "    }\n",
       "\n",
       "    .dataframe tbody tr th {\n",
       "        vertical-align: top;\n",
       "    }\n",
       "\n",
       "    .dataframe thead th {\n",
       "        text-align: right;\n",
       "    }\n",
       "</style>\n",
       "<table border=\"1\" class=\"dataframe\">\n",
       "  <thead>\n",
       "    <tr style=\"text-align: right;\">\n",
       "      <th></th>\n",
       "      <th>loan_amnt</th>\n",
       "      <th>int_rate</th>\n",
       "      <th>emp_length</th>\n",
       "      <th>home_ownership</th>\n",
       "      <th>annual_inc</th>\n",
       "      <th>purpose</th>\n",
       "      <th>dti</th>\n",
       "      <th>delinq_2yrs</th>\n",
       "      <th>loan_status</th>\n",
       "    </tr>\n",
       "  </thead>\n",
       "  <tbody>\n",
       "    <tr>\n",
       "      <th>0</th>\n",
       "      <td>30000</td>\n",
       "      <td>22.35</td>\n",
       "      <td>5.0</td>\n",
       "      <td>MORTGAGE</td>\n",
       "      <td>100000.0</td>\n",
       "      <td>debt_consolidation</td>\n",
       "      <td>30.46</td>\n",
       "      <td>0</td>\n",
       "      <td>1</td>\n",
       "    </tr>\n",
       "    <tr>\n",
       "      <th>1</th>\n",
       "      <td>40000</td>\n",
       "      <td>16.14</td>\n",
       "      <td>0.8</td>\n",
       "      <td>MORTGAGE</td>\n",
       "      <td>45000.0</td>\n",
       "      <td>credit_card</td>\n",
       "      <td>50.53</td>\n",
       "      <td>0</td>\n",
       "      <td>1</td>\n",
       "    </tr>\n",
       "    <tr>\n",
       "      <th>2</th>\n",
       "      <td>20000</td>\n",
       "      <td>7.56</td>\n",
       "      <td>10.0</td>\n",
       "      <td>MORTGAGE</td>\n",
       "      <td>100000.0</td>\n",
       "      <td>credit_card</td>\n",
       "      <td>18.92</td>\n",
       "      <td>0</td>\n",
       "      <td>1</td>\n",
       "    </tr>\n",
       "    <tr>\n",
       "      <th>3</th>\n",
       "      <td>4500</td>\n",
       "      <td>11.31</td>\n",
       "      <td>10.0</td>\n",
       "      <td>RENT</td>\n",
       "      <td>38500.0</td>\n",
       "      <td>credit_card</td>\n",
       "      <td>4.64</td>\n",
       "      <td>0</td>\n",
       "      <td>1</td>\n",
       "    </tr>\n",
       "    <tr>\n",
       "      <th>4</th>\n",
       "      <td>8425</td>\n",
       "      <td>27.27</td>\n",
       "      <td>3.0</td>\n",
       "      <td>MORTGAGE</td>\n",
       "      <td>450000.0</td>\n",
       "      <td>credit_card</td>\n",
       "      <td>12.37</td>\n",
       "      <td>0</td>\n",
       "      <td>1</td>\n",
       "    </tr>\n",
       "  </tbody>\n",
       "</table>\n",
       "</div>"
      ],
      "text/plain": [
       "   loan_amnt  int_rate  emp_length home_ownership  annual_inc  \\\n",
       "0      30000     22.35         5.0       MORTGAGE    100000.0   \n",
       "1      40000     16.14         0.8       MORTGAGE     45000.0   \n",
       "2      20000      7.56        10.0       MORTGAGE    100000.0   \n",
       "3       4500     11.31        10.0           RENT     38500.0   \n",
       "4       8425     27.27         3.0       MORTGAGE    450000.0   \n",
       "\n",
       "              purpose    dti  delinq_2yrs  loan_status  \n",
       "0  debt_consolidation  30.46            0            1  \n",
       "1         credit_card  50.53            0            1  \n",
       "2         credit_card  18.92            0            1  \n",
       "3         credit_card   4.64            0            1  \n",
       "4         credit_card  12.37            0            1  "
      ]
     },
     "execution_count": 18,
     "metadata": {},
     "output_type": "execute_result"
    }
   ],
   "source": [
    "paid.head()"
   ]
  },
  {
   "cell_type": "code",
   "execution_count": 19,
   "metadata": {},
   "outputs": [
    {
     "name": "stdout",
     "output_type": "stream",
     "text": [
      "cohen's d: -0.10424820883300534\n"
     ]
    }
   ],
   "source": [
    "# function to calculate Cohen's d for independent samples\n",
    "def cohend(d1, d2):\n",
    "    n1, n2 = len(d1), len(d2)\n",
    "    s1, s2 = var(d1, ddof=1), var(d2, ddof=1)\n",
    "    s = sqrt(((n1 - 1) * s1 + (n2 - 1) * s2) / (n1 + n2 - 2))\n",
    "    u1, u2 = mean(d1), mean(d2)\n",
    "    return (u1 - u2) / s\n",
    "d = cohend(chargeoff['annual_inc'], paid['annual_inc'])\n",
    "print(\"cohen's d: {}\".format(d))"
   ]
  },
  {
   "cell_type": "code",
   "execution_count": 24,
   "metadata": {},
   "outputs": [
    {
     "name": "stdout",
     "output_type": "stream",
     "text": [
      "cohen's d: -0.10424820883300534\n"
     ]
    }
   ],
   "source": [
    "# function to calculate Cohen's d for independent samples\n",
    "def cohend(d1, d2):\n",
    "    n1, n2 = len(d1), len(d2)\n",
    "    s1, s2 = var(d1, ddof=1), var(d2, ddof=1)\n",
    "    s = sqrt(((n1 - 1) * s1 + (n2 - 1) * s2) / (n1 + n2 - 2))\n",
    "    u1, u2 = mean(d1), mean(d2)\n",
    "    return (u1 - u2) / s\n",
    "d = cohend(chargeoff['annual_inc'], paid['annual_inc'])\n",
    "print(\"cohen's d: {}\".format(d))"
   ]
  },
  {
   "cell_type": "markdown",
   "metadata": {},
   "source": [
    "# using Pearson understand co-relation variable effecting loan failures"
   ]
  },
  {
   "cell_type": "code",
   "execution_count": 25,
   "metadata": {},
   "outputs": [
    {
     "data": {
      "text/html": [
       "<div>\n",
       "<style scoped>\n",
       "    .dataframe tbody tr th:only-of-type {\n",
       "        vertical-align: middle;\n",
       "    }\n",
       "\n",
       "    .dataframe tbody tr th {\n",
       "        vertical-align: top;\n",
       "    }\n",
       "\n",
       "    .dataframe thead th {\n",
       "        text-align: right;\n",
       "    }\n",
       "</style>\n",
       "<table border=\"1\" class=\"dataframe\">\n",
       "  <thead>\n",
       "    <tr style=\"text-align: right;\">\n",
       "      <th></th>\n",
       "      <th>loan_amnt</th>\n",
       "      <th>int_rate</th>\n",
       "      <th>emp_length</th>\n",
       "      <th>home_ownership</th>\n",
       "      <th>annual_inc</th>\n",
       "      <th>purpose</th>\n",
       "      <th>dti</th>\n",
       "      <th>delinq_2yrs</th>\n",
       "      <th>loan_status</th>\n",
       "    </tr>\n",
       "  </thead>\n",
       "  <tbody>\n",
       "    <tr>\n",
       "      <th>0</th>\n",
       "      <td>30000</td>\n",
       "      <td>22.35</td>\n",
       "      <td>5.0</td>\n",
       "      <td>MORTGAGE</td>\n",
       "      <td>100000.0</td>\n",
       "      <td>debt_consolidation</td>\n",
       "      <td>30.46</td>\n",
       "      <td>0</td>\n",
       "      <td>1</td>\n",
       "    </tr>\n",
       "    <tr>\n",
       "      <th>1</th>\n",
       "      <td>40000</td>\n",
       "      <td>16.14</td>\n",
       "      <td>0.8</td>\n",
       "      <td>MORTGAGE</td>\n",
       "      <td>45000.0</td>\n",
       "      <td>credit_card</td>\n",
       "      <td>50.53</td>\n",
       "      <td>0</td>\n",
       "      <td>1</td>\n",
       "    </tr>\n",
       "    <tr>\n",
       "      <th>2</th>\n",
       "      <td>20000</td>\n",
       "      <td>7.56</td>\n",
       "      <td>10.0</td>\n",
       "      <td>MORTGAGE</td>\n",
       "      <td>100000.0</td>\n",
       "      <td>credit_card</td>\n",
       "      <td>18.92</td>\n",
       "      <td>0</td>\n",
       "      <td>1</td>\n",
       "    </tr>\n",
       "    <tr>\n",
       "      <th>3</th>\n",
       "      <td>4500</td>\n",
       "      <td>11.31</td>\n",
       "      <td>10.0</td>\n",
       "      <td>RENT</td>\n",
       "      <td>38500.0</td>\n",
       "      <td>credit_card</td>\n",
       "      <td>4.64</td>\n",
       "      <td>0</td>\n",
       "      <td>1</td>\n",
       "    </tr>\n",
       "    <tr>\n",
       "      <th>4</th>\n",
       "      <td>8425</td>\n",
       "      <td>27.27</td>\n",
       "      <td>3.0</td>\n",
       "      <td>MORTGAGE</td>\n",
       "      <td>450000.0</td>\n",
       "      <td>credit_card</td>\n",
       "      <td>12.37</td>\n",
       "      <td>0</td>\n",
       "      <td>1</td>\n",
       "    </tr>\n",
       "  </tbody>\n",
       "</table>\n",
       "</div>"
      ],
      "text/plain": [
       "   loan_amnt  int_rate  emp_length home_ownership  annual_inc  \\\n",
       "0      30000     22.35         5.0       MORTGAGE    100000.0   \n",
       "1      40000     16.14         0.8       MORTGAGE     45000.0   \n",
       "2      20000      7.56        10.0       MORTGAGE    100000.0   \n",
       "3       4500     11.31        10.0           RENT     38500.0   \n",
       "4       8425     27.27         3.0       MORTGAGE    450000.0   \n",
       "\n",
       "              purpose    dti  delinq_2yrs  loan_status  \n",
       "0  debt_consolidation  30.46            0            1  \n",
       "1         credit_card  50.53            0            1  \n",
       "2         credit_card  18.92            0            1  \n",
       "3         credit_card   4.64            0            1  \n",
       "4         credit_card  12.37            0            1  "
      ]
     },
     "execution_count": 25,
     "metadata": {},
     "output_type": "execute_result"
    }
   ],
   "source": [
    "data.head()"
   ]
  },
  {
   "cell_type": "code",
   "execution_count": 31,
   "metadata": {},
   "outputs": [
    {
     "data": {
      "image/png": "[encoded data removed]",
      "text/plain": [
       "<Figure size 432x288 with 1 Axes>"
      ]
     },
     "metadata": {
      "needs_background": "light"
     },
     "output_type": "display_data"
    }
   ],
   "source": [
    "plt.title(\"BMI Versus Charges\")\n",
    "ax = sns.scatterplot(x=\"loan_amnt\", y=\"delinq_2yrs\", data=data)\n",
    "plt.show()"
   ]
  },
  {
   "cell_type": "code",
   "execution_count": 33,
   "metadata": {},
   "outputs": [
    {
     "data": {
      "text/html": [
       "<div>\n",
       "<style scoped>\n",
       "    .dataframe tbody tr th:only-of-type {\n",
       "        vertical-align: middle;\n",
       "    }\n",
       "\n",
       "    .dataframe tbody tr th {\n",
       "        vertical-align: top;\n",
       "    }\n",
       "\n",
       "    .dataframe thead th {\n",
       "        text-align: right;\n",
       "    }\n",
       "</style>\n",
       "<table border=\"1\" class=\"dataframe\">\n",
       "  <thead>\n",
       "    <tr style=\"text-align: right;\">\n",
       "      <th></th>\n",
       "      <th>loan_amnt</th>\n",
       "      <th>int_rate</th>\n",
       "      <th>emp_length</th>\n",
       "      <th>home_ownership</th>\n",
       "      <th>annual_inc</th>\n",
       "      <th>purpose</th>\n",
       "      <th>dti</th>\n",
       "      <th>delinq_2yrs</th>\n",
       "      <th>loan_status</th>\n",
       "    </tr>\n",
       "  </thead>\n",
       "  <tbody>\n",
       "    <tr>\n",
       "      <th>0</th>\n",
       "      <td>30000</td>\n",
       "      <td>22.35</td>\n",
       "      <td>5.0</td>\n",
       "      <td>MORTGAGE</td>\n",
       "      <td>100000.0</td>\n",
       "      <td>debt_consolidation</td>\n",
       "      <td>30.46</td>\n",
       "      <td>0</td>\n",
       "      <td>1</td>\n",
       "    </tr>\n",
       "    <tr>\n",
       "      <th>1</th>\n",
       "      <td>40000</td>\n",
       "      <td>16.14</td>\n",
       "      <td>0.8</td>\n",
       "      <td>MORTGAGE</td>\n",
       "      <td>45000.0</td>\n",
       "      <td>credit_card</td>\n",
       "      <td>50.53</td>\n",
       "      <td>0</td>\n",
       "      <td>1</td>\n",
       "    </tr>\n",
       "    <tr>\n",
       "      <th>2</th>\n",
       "      <td>20000</td>\n",
       "      <td>7.56</td>\n",
       "      <td>10.0</td>\n",
       "      <td>MORTGAGE</td>\n",
       "      <td>100000.0</td>\n",
       "      <td>credit_card</td>\n",
       "      <td>18.92</td>\n",
       "      <td>0</td>\n",
       "      <td>1</td>\n",
       "    </tr>\n",
       "    <tr>\n",
       "      <th>3</th>\n",
       "      <td>4500</td>\n",
       "      <td>11.31</td>\n",
       "      <td>10.0</td>\n",
       "      <td>RENT</td>\n",
       "      <td>38500.0</td>\n",
       "      <td>credit_card</td>\n",
       "      <td>4.64</td>\n",
       "      <td>0</td>\n",
       "      <td>1</td>\n",
       "    </tr>\n",
       "    <tr>\n",
       "      <th>4</th>\n",
       "      <td>8425</td>\n",
       "      <td>27.27</td>\n",
       "      <td>3.0</td>\n",
       "      <td>MORTGAGE</td>\n",
       "      <td>450000.0</td>\n",
       "      <td>credit_card</td>\n",
       "      <td>12.37</td>\n",
       "      <td>0</td>\n",
       "      <td>1</td>\n",
       "    </tr>\n",
       "  </tbody>\n",
       "</table>\n",
       "</div>"
      ],
      "text/plain": [
       "   loan_amnt  int_rate  emp_length home_ownership  annual_inc  \\\n",
       "0      30000     22.35         5.0       MORTGAGE    100000.0   \n",
       "1      40000     16.14         0.8       MORTGAGE     45000.0   \n",
       "2      20000      7.56        10.0       MORTGAGE    100000.0   \n",
       "3       4500     11.31        10.0           RENT     38500.0   \n",
       "4       8425     27.27         3.0       MORTGAGE    450000.0   \n",
       "\n",
       "              purpose    dti  delinq_2yrs  loan_status  \n",
       "0  debt_consolidation  30.46            0            1  \n",
       "1         credit_card  50.53            0            1  \n",
       "2         credit_card  18.92            0            1  \n",
       "3         credit_card   4.64            0            1  \n",
       "4         credit_card  12.37            0            1  "
      ]
     },
     "execution_count": 33,
     "metadata": {},
     "output_type": "execute_result"
    }
   ],
   "source": [
    "data.head()"
   ]
  },
  {
   "cell_type": "code",
   "execution_count": 35,
   "metadata": {},
   "outputs": [
    {
     "data": {
      "text/plain": [
       "0.14381543038728123"
      ]
     },
     "execution_count": 35,
     "metadata": {},
     "output_type": "execute_result"
    }
   ],
   "source": [
    "data.int_rate.corr ( data.loan_amnt )"
   ]
  },
  {
   "cell_type": "code",
   "execution_count": 36,
   "metadata": {},
   "outputs": [
    {
     "data": {
      "text/plain": [
       "0.09032266856626686"
      ]
     },
     "execution_count": 36,
     "metadata": {},
     "output_type": "execute_result"
    }
   ],
   "source": [
    "data.emp_length.corr ( data.loan_amnt )"
   ]
  },
  {
   "cell_type": "code",
   "execution_count": 37,
   "metadata": {},
   "outputs": [
    {
     "data": {
      "text/plain": [
       "0.3102321243465206"
      ]
     },
     "execution_count": 37,
     "metadata": {},
     "output_type": "execute_result"
    }
   ],
   "source": [
    "data.annual_inc.corr ( data.loan_amnt )"
   ]
  },
  {
   "cell_type": "code",
   "execution_count": 38,
   "metadata": {},
   "outputs": [
    {
     "data": {
      "text/plain": [
       "0.03208055927779904"
      ]
     },
     "execution_count": 38,
     "metadata": {},
     "output_type": "execute_result"
    }
   ],
   "source": [
    "data.dti.corr ( data.loan_amnt )"
   ]
  },
  {
   "cell_type": "code",
   "execution_count": null,
   "metadata": {},
   "outputs": [],
   "source": []
  },
  {
   "cell_type": "code",
   "execution_count": null,
   "metadata": {},
   "outputs": [],
   "source": []
  }
 ],
 "metadata": {
  "kernelspec": {
   "display_name": "Python 3",
   "language": "python",
   "name": "python3"
  },
  "language_info": {
   "codemirror_mode": {
    "name": "ipython",
    "version": 3
   },
   "file_extension": ".py",
   "mimetype": "text/x-python",
   "name": "python",
   "nbconvert_exporter": "python",
   "pygments_lexer": "ipython3",
   "version": "3.7.6"
  }
 },
 "nbformat": 4,
 "nbformat_minor": 4
}
